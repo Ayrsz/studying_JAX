{
  "nbformat": 4,
  "nbformat_minor": 0,
  "metadata": {
    "colab": {
      "provenance": [],
      "toc_visible": true
    },
    "kernelspec": {
      "name": "python3",
      "display_name": "Python 3"
    },
    "language_info": {
      "name": "python"
    }
  },
  "cells": [
    {
      "cell_type": "code",
      "execution_count": null,
      "metadata": {
        "id": "ek-bOm9TVKiz"
      },
      "outputs": [],
      "source": [
        "import jax\n",
        "import jax.numpy as jnp\n",
        "import jax.lax as lax\n",
        "import numpy as np\n",
        "from matplotlib import pyplot as plt"
      ]
    },
    {
      "cell_type": "code",
      "source": [
        "def visualize_fn(fn, l=-10, r=10, n=1000):\n",
        "    x = np.linspace(l, r, num=n)\n",
        "    y = fn(x)\n",
        "    plt.plot(x, y); plt.show()"
      ],
      "metadata": {
        "id": "fTDT99yWVPLh"
      },
      "execution_count": null,
      "outputs": []
    },
    {
      "cell_type": "code",
      "source": [
        "x = np.arange(10)\n",
        "x[0] = 10\n",
        "y = jnp.arange(10)\n",
        "\n",
        "#Operação não permitida! Arrays são imutáveis\n",
        "y[0] = 10"
      ],
      "metadata": {
        "colab": {
          "base_uri": "https://localhost:8080/",
          "height": 315
        },
        "id": "5M764DKLVVQP",
        "outputId": "bdccb3f4-d497-47a6-f4e4-9552beef1c6e"
      },
      "execution_count": null,
      "outputs": [
        {
          "output_type": "error",
          "ename": "TypeError",
          "evalue": "'<class 'jaxlib.xla_extension.ArrayImpl'>' object does not support item assignment. JAX arrays are immutable. Instead of ``x[idx] = y``, use ``x = x.at[idx].set(y)`` or another .at[] method: https://jax.readthedocs.io/en/latest/_autosummary/jax.numpy.ndarray.at.html",
          "traceback": [
            "\u001b[0;31m---------------------------------------------------------------------------\u001b[0m",
            "\u001b[0;31mTypeError\u001b[0m                                 Traceback (most recent call last)",
            "\u001b[0;32m<ipython-input-3-abaed33a22b6>\u001b[0m in \u001b[0;36m<cell line: 0>\u001b[0;34m()\u001b[0m\n\u001b[1;32m      4\u001b[0m \u001b[0;34m\u001b[0m\u001b[0m\n\u001b[1;32m      5\u001b[0m \u001b[0;31m#Operação não permitida! Arrays são imutáveis\u001b[0m\u001b[0;34m\u001b[0m\u001b[0;34m\u001b[0m\u001b[0m\n\u001b[0;32m----> 6\u001b[0;31m \u001b[0my\u001b[0m\u001b[0;34m[\u001b[0m\u001b[0;36m0\u001b[0m\u001b[0;34m]\u001b[0m \u001b[0;34m=\u001b[0m \u001b[0;36m10\u001b[0m\u001b[0;34m\u001b[0m\u001b[0;34m\u001b[0m\u001b[0m\n\u001b[0m",
            "\u001b[0;32m/usr/local/lib/python3.11/dist-packages/jax/_src/numpy/array_methods.py\u001b[0m in \u001b[0;36m_unimplemented_setitem\u001b[0;34m(self, i, x)\u001b[0m\n\u001b[1;32m    585\u001b[0m          \u001b[0;34m\"or another .at[] method: \"\u001b[0m\u001b[0;34m\u001b[0m\u001b[0;34m\u001b[0m\u001b[0m\n\u001b[1;32m    586\u001b[0m          \"https://jax.readthedocs.io/en/latest/_autosummary/jax.numpy.ndarray.at.html\")\n\u001b[0;32m--> 587\u001b[0;31m   \u001b[0;32mraise\u001b[0m \u001b[0mTypeError\u001b[0m\u001b[0;34m(\u001b[0m\u001b[0mmsg\u001b[0m\u001b[0;34m.\u001b[0m\u001b[0mformat\u001b[0m\u001b[0;34m(\u001b[0m\u001b[0mtype\u001b[0m\u001b[0;34m(\u001b[0m\u001b[0mself\u001b[0m\u001b[0;34m)\u001b[0m\u001b[0;34m)\u001b[0m\u001b[0;34m)\u001b[0m\u001b[0;34m\u001b[0m\u001b[0;34m\u001b[0m\u001b[0m\n\u001b[0m\u001b[1;32m    588\u001b[0m \u001b[0;34m\u001b[0m\u001b[0m\n\u001b[1;32m    589\u001b[0m \u001b[0;32mdef\u001b[0m \u001b[0m_operator_round\u001b[0m\u001b[0;34m(\u001b[0m\u001b[0mnumber\u001b[0m\u001b[0;34m:\u001b[0m \u001b[0mArrayLike\u001b[0m\u001b[0;34m,\u001b[0m \u001b[0mndigits\u001b[0m\u001b[0;34m:\u001b[0m \u001b[0mint\u001b[0m \u001b[0;34m|\u001b[0m \u001b[0;32mNone\u001b[0m \u001b[0;34m=\u001b[0m \u001b[0;32mNone\u001b[0m\u001b[0;34m)\u001b[0m \u001b[0;34m->\u001b[0m \u001b[0mArray\u001b[0m\u001b[0;34m:\u001b[0m\u001b[0;34m\u001b[0m\u001b[0;34m\u001b[0m\u001b[0m\n",
            "\u001b[0;31mTypeError\u001b[0m: '<class 'jaxlib.xla_extension.ArrayImpl'>' object does not support item assignment. JAX arrays are immutable. Instead of ``x[idx] = y``, use ``x = x.at[idx].set(y)`` or another .at[] method: https://jax.readthedocs.io/en/latest/_autosummary/jax.numpy.ndarray.at.html"
          ]
        }
      ]
    },
    {
      "cell_type": "code",
      "source": [
        "z = jnp.arange(10)\n",
        "w = z.at[0].set(100)\n",
        "print(z)\n",
        "print(w)"
      ],
      "metadata": {
        "id": "9BVYZpMuVj2i",
        "colab": {
          "base_uri": "https://localhost:8080/"
        },
        "outputId": "a964a10d-1d89-465b-ba21-b184ade55f3c"
      },
      "execution_count": null,
      "outputs": [
        {
          "output_type": "stream",
          "name": "stdout",
          "text": [
            "[0 1 2 3 4 5 6 7 8 9]\n",
            "[100   1   2   3   4   5   6   7   8   9]\n"
          ]
        }
      ]
    },
    {
      "cell_type": "markdown",
      "source": [
        "## Comparação de perfomance"
      ],
      "metadata": {
        "id": "YCiBt-FTVy8z"
      }
    },
    {
      "cell_type": "code",
      "source": [
        "\n",
        "tamanho = 3000\n",
        "x_jnp = jnp.arange(tamanho)\n",
        "x_np = np.arange(tamanho)\n",
        "\n",
        "%timeit np.dot(x_np, x_np.T)\n",
        "%timeit jnp.dot(x_jnp, x_jnp.T).block_until_ready()"
      ],
      "metadata": {
        "colab": {
          "base_uri": "https://localhost:8080/"
        },
        "id": "V7FNHrPJV4VQ",
        "outputId": "69494db1-d5cf-430c-f23a-cc970b71d738"
      },
      "execution_count": null,
      "outputs": [
        {
          "output_type": "stream",
          "name": "stdout",
          "text": [
            "The slowest run took 4.17 times longer than the fastest. This could mean that an intermediate result is being cached.\n",
            "14.5 µs ± 8.87 µs per loop (mean ± std. dev. of 7 runs, 100000 loops each)\n",
            "85.8 µs ± 18.7 µs per loop (mean ± std. dev. of 7 runs, 10000 loops each)\n"
          ]
        }
      ]
    },
    {
      "cell_type": "markdown",
      "source": [
        "## Jit"
      ],
      "metadata": {
        "id": "JR23IJpvOPfP"
      }
    },
    {
      "cell_type": "code",
      "source": [
        "def relu(x):\n",
        "  return jnp.array(x+10)\n",
        "\n",
        "seed = 0\n",
        "#Toda a geração de numeros aleatórios precisa de uma key\n",
        "key = jax.random.PRNGKey(seed)\n",
        "\n",
        "#Função aprimorada, tem mais desempenho\n",
        "relu_jit = jax.jit(relu)\n",
        "\n",
        "x = jax.random.normal(key, 1000)\n",
        "\n",
        "%timeit relu_jit(x).block_until_ready()\n",
        "%timeit relu(x).block_until_ready()\n",
        "\n",
        "\n"
      ],
      "metadata": {
        "colab": {
          "base_uri": "https://localhost:8080/"
        },
        "id": "i1vje2YANxQf",
        "outputId": "14b72773-7e59-40c8-f627-f751d99c81ae"
      },
      "execution_count": null,
      "outputs": [
        {
          "output_type": "stream",
          "name": "stdout",
          "text": [
            "98.3 µs ± 32.7 µs per loop (mean ± std. dev. of 7 runs, 10000 loops each)\n",
            "325 µs ± 14.7 µs per loop (mean ± std. dev. of 7 runs, 1000 loops each)\n"
          ]
        }
      ]
    },
    {
      "cell_type": "code",
      "source": [
        "# Jit não é valido para qualquer tipo de função!\n"
      ],
      "metadata": {
        "id": "rxXdRUB0bO25"
      },
      "execution_count": null,
      "outputs": []
    },
    {
      "cell_type": "markdown",
      "source": [
        "## Grad"
      ],
      "metadata": {
        "id": "grrbelrUQ4CR"
      }
    },
    {
      "cell_type": "code",
      "source": [
        "# Agiliza a descida gradiente\n",
        "# Modo automático\n",
        "\n",
        "def mse(x):\n",
        "  return jnp.sum((x**2)) # x1 * 2 + x2 * 2 + x3 * 2 + x4 * 2 -> Derivada da função UAU\n",
        "\n",
        "x = jnp.arange(4.)\n",
        "loss_func = mse\n",
        "\n",
        "\n",
        "loss_func_grad = jax.grad(loss_func)\n",
        "\n",
        "#Calcula automaticamente o gradiente, considerando que x é a diferença entre as saidas do modelo e as entradas esperadas\n",
        "print(loss_func_grad(x))\n"
      ],
      "metadata": {
        "colab": {
          "base_uri": "https://localhost:8080/"
        },
        "id": "D_HdzzyyQ5ng",
        "outputId": "a29bf183-f525-4b8b-ea22-312c996afaa0"
      },
      "execution_count": null,
      "outputs": [
        {
          "output_type": "stream",
          "name": "stdout",
          "text": [
            "[0. 2. 4. 6.]\n"
          ]
        }
      ]
    },
    {
      "cell_type": "code",
      "source": [
        "#Função com devirada indefinida para x = 0\n",
        "func = lambda x: jnp.abs(x)\n",
        "\n",
        "#Calcula o gradiente\n",
        "func_grad = jax.grad(func)\n",
        "\n",
        "\n",
        "visualize_fn(func)\n",
        "\n",
        "#Define a derivada de 0 para 1, por convenção e praticidade\n",
        "func_grad(0.)"
      ],
      "metadata": {
        "colab": {
          "base_uri": "https://localhost:8080/",
          "height": 447
        },
        "id": "mrAt6NbFUkT7",
        "outputId": "7045ea35-2ee1-4f05-d61a-f259019e4615"
      },
      "execution_count": null,
      "outputs": [
        {
          "output_type": "display_data",
          "data": {
            "text/plain": [
              "<Figure size 640x480 with 1 Axes>"
            ],
            "image/png": "[encoded data removed]"
          },
          "metadata": {}
        },
        {
          "output_type": "execute_result",
          "data": {
            "text/plain": [
              "Array(1., dtype=float32, weak_type=True)"
            ]
          },
          "metadata": {},
          "execution_count": 8
        }
      ]
    },
    {
      "cell_type": "markdown",
      "source": [
        "## Vmap"
      ],
      "metadata": {
        "id": "xrFde4NPWvfq"
      }
    },
    {
      "cell_type": "code",
      "source": [
        "#Escrever suas próprias funções como se estivesse tratando com um escalar\n",
        "W = jax.random.normal(key, (150, 150))\n",
        "x_batched = jax.random.normal(key, (50, 150)) #Tratar como \"batch\", + RAPIDO\n",
        "\n",
        "def mult_matrix(x):\n",
        "  return jnp.dot(W, x)"
      ],
      "metadata": {
        "id": "hn_RJShxWzJg"
      },
      "execution_count": null,
      "outputs": []
    },
    {
      "cell_type": "code",
      "source": [
        "def vector_mult_matrix(x):\n",
        "  return jnp.stack([mult_matrix(obj) for obj in x])\n",
        "\n",
        "print(\"Vetorizado:\")\n",
        "%timeit vector_mult_matrix(x_batched).block_until_ready()"
      ],
      "metadata": {
        "colab": {
          "base_uri": "https://localhost:8080/"
        },
        "id": "Ks8wRROwYSBN",
        "outputId": "b658f1fd-912d-4ce1-c857-e9db088f0e5f"
      },
      "execution_count": null,
      "outputs": [
        {
          "output_type": "stream",
          "name": "stdout",
          "text": [
            "Vetorizado:\n",
            "4.15 ms ± 151 µs per loop (mean ± std. dev. of 7 runs, 1 loop each)\n"
          ]
        }
      ]
    },
    {
      "cell_type": "code",
      "source": [
        "#Usando jit\n",
        "mult_matrix_jit = jax.jit(mult_matrix)\n",
        "\n",
        "def vector_mult_matrix_jit(x):\n",
        "  return jnp.stack([mult_matrix_jit(obj) for obj in x])\n",
        "\n",
        "print(\"Vetorizado com jit:\")\n",
        "%timeit vector_mult_matrix_jit(x_batched)"
      ],
      "metadata": {
        "colab": {
          "base_uri": "https://localhost:8080/"
        },
        "id": "VbIKJ158Y9EB",
        "outputId": "cbd0e8b5-0a49-4000-af66-8a1c0f6512dd"
      },
      "execution_count": null,
      "outputs": [
        {
          "output_type": "stream",
          "name": "stdout",
          "text": [
            "Vetorizado com jit:\n",
            "4.33 ms ± 77 µs per loop (mean ± std. dev. of 7 runs, 100 loops each)\n"
          ]
        }
      ]
    },
    {
      "cell_type": "code",
      "source": [
        "#Usando vmap\n",
        "\n",
        "def vmap_mult_matrix(x):\n",
        "  return jax.vmap(mult_matrix)(x)\n",
        "\n",
        "#Perceba que a sintaxe é: jax.vmap(função aplicada a apenas um valor)(vetor)\n",
        "%timeit vmap_mult_matrix(x_batched)"
      ],
      "metadata": {
        "colab": {
          "base_uri": "https://localhost:8080/"
        },
        "id": "bG6s4XwhaH2_",
        "outputId": "d8f8d996-5a4e-4c28-efe6-78b4546d1f95"
      },
      "execution_count": null,
      "outputs": [
        {
          "output_type": "stream",
          "name": "stdout",
          "text": [
            "734 µs ± 63 µs per loop (mean ± std. dev. of 7 runs, 1000 loops each)\n"
          ]
        }
      ]
    },
    {
      "cell_type": "markdown",
      "source": [
        "## Lax"
      ],
      "metadata": {
        "id": "8BwYhMECdMR1"
      }
    },
    {
      "cell_type": "markdown",
      "source": [
        "\n",
        "> Numpy -> Lax -> XLA\n",
        "\n"
      ],
      "metadata": {
        "id": "OqEXioGHdVyu"
      }
    },
    {
      "cell_type": "code",
      "source": [
        "# Lax é mais restrititivo, porém mais rápido\n",
        "print(jnp.add(1, 1.0))\n",
        "print(jax.lax.add(1, 1.0))\n",
        "#Erro! O tipo dos dados precisa ser os mesmos"
      ],
      "metadata": {
        "colab": {
          "base_uri": "https://localhost:8080/",
          "height": 668
        },
        "id": "cKDWpyoadQlx",
        "outputId": "8b18e886-592c-4f74-8293-93e94fea06bc"
      },
      "execution_count": null,
      "outputs": [
        {
          "output_type": "stream",
          "name": "stdout",
          "text": [
            "2.0\n"
          ]
        },
        {
          "output_type": "error",
          "ename": "ValueError",
          "evalue": "Cannot lower jaxpr with verifier errors:\n\top requires the same element type for all operands and results\n\t\tat loc(\"jit(add)/jit(main)/add\"(callsite(\"<module>\"(\"<ipython-input-13-492d42f549d6>\":3:6) at callsite(\"InteractiveShell.run_code\"(\"/usr/local/lib/python3.11/dist-packages/IPython/core/interactiveshell.py\":3553:20) at callsite(\"InteractiveShell.run_ast_nodes\"(\"/usr/local/lib/python3.11/dist-packages/IPython/core/interactiveshell.py\":3473:24) at callsite(\"InteractiveShell.run_cell_async\"(\"/usr/local/lib/python3.11/dist-packages/IPython/core/interactiveshell.py\":3257:29) at callsite(\"_pseudo_sync_runner\"(\"/usr/local/lib/python3.11/dist-packages/IPython/core/async_helpers.py\":78:8) at callsite(\"InteractiveShell._run_cell\"(\"/usr/local/lib/python3.11/dist-packages/IPython/core/interactiveshell.py\":3030:19) at callsite(\"InteractiveShell.run_cell\"(\"/usr/local/lib/python3.11/dist-packages/IPython/core/interactiveshell.py\":2975:21) at callsite(\"ZMQInteractiveShell.run_cell\"(\"/usr/local/lib/python3.11/dist-packages/ipykernel/zmqshell.py\":528:15) at callsite(\"IPythonKernel.do_execute\"(\"/usr/local/lib/python3.11/dist-packages/ipykernel/ipkernel.py\":383:26) at \"Kernel.execute_request\"(\"/usr/local/lib/python3.11/dist-packages/ipykernel/kernelbase.py\":730:28))))))))))))\nDefine JAX_DUMP_IR_TO to dump the module.",
          "traceback": [
            "\u001b[0;31m---------------------------------------------------------------------------\u001b[0m",
            "\u001b[0;31mMLIRError\u001b[0m                                 Traceback (most recent call last)",
            "\u001b[0;32m/usr/local/lib/python3.11/dist-packages/jax/_src/interpreters/mlir.py\u001b[0m in \u001b[0;36mlower_jaxpr_to_module\u001b[0;34m(***failed resolving arguments***)\u001b[0m\n\u001b[1;32m   1149\u001b[0m   \u001b[0;32mtry\u001b[0m\u001b[0;34m:\u001b[0m\u001b[0;34m\u001b[0m\u001b[0;34m\u001b[0m\u001b[0m\n\u001b[0;32m-> 1150\u001b[0;31m     \u001b[0;32mif\u001b[0m \u001b[0;32mnot\u001b[0m \u001b[0mctx\u001b[0m\u001b[0;34m.\u001b[0m\u001b[0mmodule\u001b[0m\u001b[0;34m.\u001b[0m\u001b[0moperation\u001b[0m\u001b[0;34m.\u001b[0m\u001b[0mverify\u001b[0m\u001b[0;34m(\u001b[0m\u001b[0;34m)\u001b[0m\u001b[0;34m:\u001b[0m\u001b[0;34m\u001b[0m\u001b[0;34m\u001b[0m\u001b[0m\n\u001b[0m\u001b[1;32m   1151\u001b[0m       raise ValueError(\n",
            "\u001b[0;31mMLIRError\u001b[0m: Verification failed:\nerror: \"jit(add)/jit(main)/add\"(callsite(\"<module>\"(\"<ipython-input-13-492d42f549d6>\":3:6) at callsite(\"InteractiveShell.run_code\"(\"/usr/local/lib/python3.11/dist-packages/IPython/core/interactiveshell.py\":3553:20) at callsite(\"InteractiveShell.run_ast_nodes\"(\"/usr/local/lib/python3.11/dist-packages/IPython/core/interactiveshell.py\":3473:24) at callsite(\"InteractiveShell.run_cell_async\"(\"/usr/local/lib/python3.11/dist-packages/IPython/core/interactiveshell.py\":3257:29) at callsite(\"_pseudo_sync_runner\"(\"/usr/local/lib/python3.11/dist-packages/IPython/core/async_helpers.py\":78:8) at callsite(\"InteractiveShell._run_cell\"(\"/usr/local/lib/python3.11/dist-packages/IPython/core/interactiveshell.py\":3030:19) at callsite(\"InteractiveShell.run_cell\"(\"/usr/local/lib/python3.11/dist-packages/IPython/core/interactiveshell.py\":2975:21) at callsite(\"ZMQInteractiveShell.run_cell\"(\"/usr/local/lib/python3.11/dist-packages/ipykernel/zmqshell.py\":528:15) at callsite(\"IPythonKernel.do_execute\"(\"/usr/local/lib/python3.11/dist-packages/ipykernel/ipkernel.py\":383:26) at \"Kernel.execute_request\"(\"/usr/local/lib/python3.11/dist-packages/ipykernel/kernelbase.py\":730:28))))))))))): op requires the same element type for all operands and results",
            "\nThe above exception was the direct cause of the following exception:\n",
            "\u001b[0;31mValueError\u001b[0m                                Traceback (most recent call last)",
            "\u001b[0;32m<ipython-input-13-492d42f549d6>\u001b[0m in \u001b[0;36m<cell line: 0>\u001b[0;34m()\u001b[0m\n\u001b[1;32m      1\u001b[0m \u001b[0;31m# Lax é mais restrititivo, porém mais rápido\u001b[0m\u001b[0;34m\u001b[0m\u001b[0;34m\u001b[0m\u001b[0m\n\u001b[1;32m      2\u001b[0m \u001b[0mprint\u001b[0m\u001b[0;34m(\u001b[0m\u001b[0mjnp\u001b[0m\u001b[0;34m.\u001b[0m\u001b[0madd\u001b[0m\u001b[0;34m(\u001b[0m\u001b[0;36m1\u001b[0m\u001b[0;34m,\u001b[0m \u001b[0;36m1.0\u001b[0m\u001b[0;34m)\u001b[0m\u001b[0;34m)\u001b[0m\u001b[0;34m\u001b[0m\u001b[0;34m\u001b[0m\u001b[0m\n\u001b[0;32m----> 3\u001b[0;31m \u001b[0mprint\u001b[0m\u001b[0;34m(\u001b[0m\u001b[0mjax\u001b[0m\u001b[0;34m.\u001b[0m\u001b[0mlax\u001b[0m\u001b[0;34m.\u001b[0m\u001b[0madd\u001b[0m\u001b[0;34m(\u001b[0m\u001b[0;36m1\u001b[0m\u001b[0;34m,\u001b[0m \u001b[0;36m1.0\u001b[0m\u001b[0;34m)\u001b[0m\u001b[0;34m)\u001b[0m\u001b[0;34m\u001b[0m\u001b[0;34m\u001b[0m\u001b[0m\n\u001b[0m\u001b[1;32m      4\u001b[0m \u001b[0;31m#Erro! O tipo dos dados precisa ser os mesmos\u001b[0m\u001b[0;34m\u001b[0m\u001b[0;34m\u001b[0m\u001b[0m\n",
            "\u001b[0;32m/usr/local/lib/python3.11/dist-packages/jax/_src/lax/lax.py\u001b[0m in \u001b[0;36madd\u001b[0;34m(x, y)\u001b[0m\n\u001b[1;32m    422\u001b[0m \u001b[0;32mdef\u001b[0m \u001b[0madd\u001b[0m\u001b[0;34m(\u001b[0m\u001b[0mx\u001b[0m\u001b[0;34m:\u001b[0m \u001b[0mArrayLike\u001b[0m\u001b[0;34m,\u001b[0m \u001b[0my\u001b[0m\u001b[0;34m:\u001b[0m \u001b[0mArrayLike\u001b[0m\u001b[0;34m)\u001b[0m \u001b[0;34m->\u001b[0m \u001b[0mArray\u001b[0m\u001b[0;34m:\u001b[0m\u001b[0;34m\u001b[0m\u001b[0;34m\u001b[0m\u001b[0m\n\u001b[1;32m    423\u001b[0m   \u001b[0;34mr\"\"\"Elementwise addition: :math:`x + y`.\"\"\"\u001b[0m\u001b[0;34m\u001b[0m\u001b[0;34m\u001b[0m\u001b[0m\n\u001b[0;32m--> 424\u001b[0;31m   \u001b[0;32mreturn\u001b[0m \u001b[0madd_p\u001b[0m\u001b[0;34m.\u001b[0m\u001b[0mbind\u001b[0m\u001b[0;34m(\u001b[0m\u001b[0mx\u001b[0m\u001b[0;34m,\u001b[0m \u001b[0my\u001b[0m\u001b[0;34m)\u001b[0m\u001b[0;34m\u001b[0m\u001b[0;34m\u001b[0m\u001b[0m\n\u001b[0m\u001b[1;32m    425\u001b[0m \u001b[0;34m\u001b[0m\u001b[0m\n\u001b[1;32m    426\u001b[0m \u001b[0;32mdef\u001b[0m \u001b[0msub\u001b[0m\u001b[0;34m(\u001b[0m\u001b[0mx\u001b[0m\u001b[0;34m:\u001b[0m \u001b[0mArrayLike\u001b[0m\u001b[0;34m,\u001b[0m \u001b[0my\u001b[0m\u001b[0;34m:\u001b[0m \u001b[0mArrayLike\u001b[0m\u001b[0;34m)\u001b[0m \u001b[0;34m->\u001b[0m \u001b[0mArray\u001b[0m\u001b[0;34m:\u001b[0m\u001b[0;34m\u001b[0m\u001b[0;34m\u001b[0m\u001b[0m\n",
            "\u001b[0;32m/usr/local/lib/python3.11/dist-packages/jax/_src/core.py\u001b[0m in \u001b[0;36mbind\u001b[0;34m(self, *args, **params)\u001b[0m\n\u001b[1;32m    437\u001b[0m     assert (not config.enable_checks.value or\n\u001b[1;32m    438\u001b[0m             all(isinstance(arg, Tracer) or valid_jaxtype(arg) for arg in args)), args\n\u001b[0;32m--> 439\u001b[0;31m     \u001b[0;32mreturn\u001b[0m \u001b[0mself\u001b[0m\u001b[0;34m.\u001b[0m\u001b[0mbind_with_trace\u001b[0m\u001b[0;34m(\u001b[0m\u001b[0mfind_top_trace\u001b[0m\u001b[0;34m(\u001b[0m\u001b[0margs\u001b[0m\u001b[0;34m)\u001b[0m\u001b[0;34m,\u001b[0m \u001b[0margs\u001b[0m\u001b[0;34m,\u001b[0m \u001b[0mparams\u001b[0m\u001b[0;34m)\u001b[0m\u001b[0;34m\u001b[0m\u001b[0;34m\u001b[0m\u001b[0m\n\u001b[0m\u001b[1;32m    440\u001b[0m \u001b[0;34m\u001b[0m\u001b[0m\n\u001b[1;32m    441\u001b[0m   \u001b[0;32mdef\u001b[0m \u001b[0mbind_with_trace\u001b[0m\u001b[0;34m(\u001b[0m\u001b[0mself\u001b[0m\u001b[0;34m,\u001b[0m \u001b[0mtrace\u001b[0m\u001b[0;34m,\u001b[0m \u001b[0margs\u001b[0m\u001b[0;34m,\u001b[0m \u001b[0mparams\u001b[0m\u001b[0;34m)\u001b[0m\u001b[0;34m:\u001b[0m\u001b[0;34m\u001b[0m\u001b[0;34m\u001b[0m\u001b[0m\n",
            "\u001b[0;32m/usr/local/lib/python3.11/dist-packages/jax/_src/core.py\u001b[0m in \u001b[0;36mbind_with_trace\u001b[0;34m(self, trace, args, params)\u001b[0m\n\u001b[1;32m    441\u001b[0m   \u001b[0;32mdef\u001b[0m \u001b[0mbind_with_trace\u001b[0m\u001b[0;34m(\u001b[0m\u001b[0mself\u001b[0m\u001b[0;34m,\u001b[0m \u001b[0mtrace\u001b[0m\u001b[0;34m,\u001b[0m \u001b[0margs\u001b[0m\u001b[0;34m,\u001b[0m \u001b[0mparams\u001b[0m\u001b[0;34m)\u001b[0m\u001b[0;34m:\u001b[0m\u001b[0;34m\u001b[0m\u001b[0;34m\u001b[0m\u001b[0m\n\u001b[1;32m    442\u001b[0m     \u001b[0;32mwith\u001b[0m \u001b[0mpop_level\u001b[0m\u001b[0;34m(\u001b[0m\u001b[0mtrace\u001b[0m\u001b[0;34m.\u001b[0m\u001b[0mlevel\u001b[0m\u001b[0;34m)\u001b[0m\u001b[0;34m:\u001b[0m\u001b[0;34m\u001b[0m\u001b[0;34m\u001b[0m\u001b[0m\n\u001b[0;32m--> 443\u001b[0;31m       \u001b[0mout\u001b[0m \u001b[0;34m=\u001b[0m \u001b[0mtrace\u001b[0m\u001b[0;34m.\u001b[0m\u001b[0mprocess_primitive\u001b[0m\u001b[0;34m(\u001b[0m\u001b[0mself\u001b[0m\u001b[0;34m,\u001b[0m \u001b[0mmap\u001b[0m\u001b[0;34m(\u001b[0m\u001b[0mtrace\u001b[0m\u001b[0;34m.\u001b[0m\u001b[0mfull_raise\u001b[0m\u001b[0;34m,\u001b[0m \u001b[0margs\u001b[0m\u001b[0;34m)\u001b[0m\u001b[0;34m,\u001b[0m \u001b[0mparams\u001b[0m\u001b[0;34m)\u001b[0m\u001b[0;34m\u001b[0m\u001b[0;34m\u001b[0m\u001b[0m\n\u001b[0m\u001b[1;32m    444\u001b[0m     \u001b[0;32mreturn\u001b[0m \u001b[0mmap\u001b[0m\u001b[0;34m(\u001b[0m\u001b[0mfull_lower\u001b[0m\u001b[0;34m,\u001b[0m \u001b[0mout\u001b[0m\u001b[0;34m)\u001b[0m \u001b[0;32mif\u001b[0m \u001b[0mself\u001b[0m\u001b[0;34m.\u001b[0m\u001b[0mmultiple_results\u001b[0m \u001b[0;32melse\u001b[0m \u001b[0mfull_lower\u001b[0m\u001b[0;34m(\u001b[0m\u001b[0mout\u001b[0m\u001b[0;34m)\u001b[0m\u001b[0;34m\u001b[0m\u001b[0;34m\u001b[0m\u001b[0m\n\u001b[1;32m    445\u001b[0m \u001b[0;34m\u001b[0m\u001b[0m\n",
            "\u001b[0;32m/usr/local/lib/python3.11/dist-packages/jax/_src/core.py\u001b[0m in \u001b[0;36mprocess_primitive\u001b[0;34m(self, primitive, tracers, params)\u001b[0m\n\u001b[1;32m    947\u001b[0m       \u001b[0;32mreturn\u001b[0m \u001b[0mcall_impl_with_key_reuse_checks\u001b[0m\u001b[0;34m(\u001b[0m\u001b[0mprimitive\u001b[0m\u001b[0;34m,\u001b[0m \u001b[0mprimitive\u001b[0m\u001b[0;34m.\u001b[0m\u001b[0mimpl\u001b[0m\u001b[0;34m,\u001b[0m \u001b[0;34m*\u001b[0m\u001b[0mtracers\u001b[0m\u001b[0;34m,\u001b[0m \u001b[0;34m**\u001b[0m\u001b[0mparams\u001b[0m\u001b[0;34m)\u001b[0m\u001b[0;34m\u001b[0m\u001b[0;34m\u001b[0m\u001b[0m\n\u001b[1;32m    948\u001b[0m     \u001b[0;32melse\u001b[0m\u001b[0;34m:\u001b[0m\u001b[0;34m\u001b[0m\u001b[0;34m\u001b[0m\u001b[0m\n\u001b[0;32m--> 949\u001b[0;31m       \u001b[0;32mreturn\u001b[0m \u001b[0mprimitive\u001b[0m\u001b[0;34m.\u001b[0m\u001b[0mimpl\u001b[0m\u001b[0;34m(\u001b[0m\u001b[0;34m*\u001b[0m\u001b[0mtracers\u001b[0m\u001b[0;34m,\u001b[0m \u001b[0;34m**\u001b[0m\u001b[0mparams\u001b[0m\u001b[0;34m)\u001b[0m\u001b[0;34m\u001b[0m\u001b[0;34m\u001b[0m\u001b[0m\n\u001b[0m\u001b[1;32m    950\u001b[0m \u001b[0;34m\u001b[0m\u001b[0m\n\u001b[1;32m    951\u001b[0m   \u001b[0;32mdef\u001b[0m \u001b[0mprocess_call\u001b[0m\u001b[0;34m(\u001b[0m\u001b[0mself\u001b[0m\u001b[0;34m,\u001b[0m \u001b[0mprimitive\u001b[0m\u001b[0;34m,\u001b[0m \u001b[0mf\u001b[0m\u001b[0;34m,\u001b[0m \u001b[0mtracers\u001b[0m\u001b[0;34m,\u001b[0m \u001b[0mparams\u001b[0m\u001b[0;34m)\u001b[0m\u001b[0;34m:\u001b[0m\u001b[0;34m\u001b[0m\u001b[0;34m\u001b[0m\u001b[0m\n",
            "\u001b[0;32m/usr/local/lib/python3.11/dist-packages/jax/_src/dispatch.py\u001b[0m in \u001b[0;36mapply_primitive\u001b[0;34m(prim, *args, **params)\u001b[0m\n\u001b[1;32m     86\u001b[0m   \u001b[0mprev\u001b[0m \u001b[0;34m=\u001b[0m \u001b[0mlib\u001b[0m\u001b[0;34m.\u001b[0m\u001b[0mjax_jit\u001b[0m\u001b[0;34m.\u001b[0m\u001b[0mswap_thread_local_state_disable_jit\u001b[0m\u001b[0;34m(\u001b[0m\u001b[0;32mFalse\u001b[0m\u001b[0;34m)\u001b[0m\u001b[0;34m\u001b[0m\u001b[0;34m\u001b[0m\u001b[0m\n\u001b[1;32m     87\u001b[0m   \u001b[0;32mtry\u001b[0m\u001b[0;34m:\u001b[0m\u001b[0;34m\u001b[0m\u001b[0;34m\u001b[0m\u001b[0m\n\u001b[0;32m---> 88\u001b[0;31m     \u001b[0mouts\u001b[0m \u001b[0;34m=\u001b[0m \u001b[0mfun\u001b[0m\u001b[0;34m(\u001b[0m\u001b[0;34m*\u001b[0m\u001b[0margs\u001b[0m\u001b[0;34m)\u001b[0m\u001b[0;34m\u001b[0m\u001b[0;34m\u001b[0m\u001b[0m\n\u001b[0m\u001b[1;32m     89\u001b[0m   \u001b[0;32mfinally\u001b[0m\u001b[0;34m:\u001b[0m\u001b[0;34m\u001b[0m\u001b[0;34m\u001b[0m\u001b[0m\n\u001b[1;32m     90\u001b[0m     \u001b[0mlib\u001b[0m\u001b[0;34m.\u001b[0m\u001b[0mjax_jit\u001b[0m\u001b[0;34m.\u001b[0m\u001b[0mswap_thread_local_state_disable_jit\u001b[0m\u001b[0;34m(\u001b[0m\u001b[0mprev\u001b[0m\u001b[0;34m)\u001b[0m\u001b[0;34m\u001b[0m\u001b[0;34m\u001b[0m\u001b[0m\n",
            "    \u001b[0;31m[... skipping hidden 15 frame]\u001b[0m\n",
            "\u001b[0;32m/usr/local/lib/python3.11/dist-packages/jax/_src/interpreters/mlir.py\u001b[0m in \u001b[0;36mlower_jaxpr_to_module\u001b[0;34m(***failed resolving arguments***)\u001b[0m\n\u001b[1;32m   1161\u001b[0m     \u001b[0;32mfor\u001b[0m \u001b[0md\u001b[0m \u001b[0;32min\u001b[0m \u001b[0me\u001b[0m\u001b[0;34m.\u001b[0m\u001b[0merror_diagnostics\u001b[0m\u001b[0;34m:\u001b[0m\u001b[0;34m\u001b[0m\u001b[0;34m\u001b[0m\u001b[0m\n\u001b[1;32m   1162\u001b[0m       \u001b[0memit_diagnostic_info\u001b[0m\u001b[0;34m(\u001b[0m\u001b[0md\u001b[0m\u001b[0;34m)\u001b[0m\u001b[0;34m\u001b[0m\u001b[0;34m\u001b[0m\u001b[0m\n\u001b[0;32m-> 1163\u001b[0;31m     raise ValueError(\"\\n\".join(msg_lines) + \"\\n\" +\n\u001b[0m\u001b[1;32m   1164\u001b[0m                      dump_module_message(ctx.module, \"verification\")) from e\n\u001b[1;32m   1165\u001b[0m \u001b[0;34m\u001b[0m\u001b[0m\n",
            "\u001b[0;31mValueError\u001b[0m: Cannot lower jaxpr with verifier errors:\n\top requires the same element type for all operands and results\n\t\tat loc(\"jit(add)/jit(main)/add\"(callsite(\"<module>\"(\"<ipython-input-13-492d42f549d6>\":3:6) at callsite(\"InteractiveShell.run_code\"(\"/usr/local/lib/python3.11/dist-packages/IPython/core/interactiveshell.py\":3553:20) at callsite(\"InteractiveShell.run_ast_nodes\"(\"/usr/local/lib/python3.11/dist-packages/IPython/core/interactiveshell.py\":3473:24) at callsite(\"InteractiveShell.run_cell_async\"(\"/usr/local/lib/python3.11/dist-packages/IPython/core/interactiveshell.py\":3257:29) at callsite(\"_pseudo_sync_runner\"(\"/usr/local/lib/python3.11/dist-packages/IPython/core/async_helpers.py\":78:8) at callsite(\"InteractiveShell._run_cell\"(\"/usr/local/lib/python3.11/dist-packages/IPython/core/interactiveshell.py\":3030:19) at callsite(\"InteractiveShell.run_cell\"(\"/usr/local/lib/python3.11/dist-packages/IPython/core/interactiveshell.py\":2975:21) at callsite(\"ZMQInteractiveShell.run_cell\"(\"/usr/local/lib/python3.11/dist-packages/ipykernel/zmqshell.py\":528:15) at callsite(\"IPythonKernel.do_execute\"(\"/usr/local/lib/python3.11/dist-packages/ipykernel/ipkernel.py\":383:26) at \"Kernel.execute_request\"(\"/usr/local/lib/python3.11/dist-packages/ipykernel/kernelbase.py\":730:28))))))))))))\nDefine JAX_DUMP_IR_TO to dump the module."
          ]
        }
      ]
    }
  ]
}